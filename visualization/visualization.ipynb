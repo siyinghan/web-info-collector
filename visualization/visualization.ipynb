{
 "cells": [
  {
   "cell_type": "code",
   "execution_count": null,
   "metadata": {},
   "outputs": [],
   "source": [
    "import pandas as pd\n",
    "import numpy as np\n",
    "import datetime as dt\n",
    "import mysql.connector\n",
    "import matplotlib.pyplot as plt"
   ]
  },
  {
   "cell_type": "code",
   "execution_count": null,
   "metadata": {},
   "outputs": [],
   "source": [
    "class DataExtrator:\n",
    "    def __init__(self):\n",
    "        self.mydb = mysql.connector.connect(\n",
    "            host=\"192.168.1.100\",\n",
    "            user=\"root\",\n",
    "            password=\"Admin1234!\",\n",
    "            database=\"web_info\"\n",
    "        )\n",
    "        self.mycursor = self.mydb.cursor()\n",
    "\n",
    "    def getRequestInfo(self):\n",
    "        sqlStr = \"select name_id, name from request_info\"\n",
    "        self.mycursor.execute(sqlStr)\n",
    "        return pd.DataFrame(self.mycursor.fetchall(), columns=['name_id', 'name'])\n",
    "\n",
    "    def getWebInfo(self, name_id):\n",
    "        columnsName = ['name_id', 'create_time', 'weibo_follower', 'v_index_wenyu', 'chaohua_read_yi', 'chaohua_count', 'bili_channel_view_count_yi',\n",
    "                       'bili_channel_feature_count', 'douyin_ch_user_count', 'douyin_ch_view_count']\n",
    "        sqlStr = f\"select name_id, create_time, weibo_follower, v_index_wenyu, chaohua_read_yi, chaohua_count, bili_channel_view_count_yi, \\\n",
    "                bili_channel_feature_count, douyin_ch_user_count, douyin_ch_view_count from web_data where name_id = {name_id}\"\n",
    "        self.mycursor.execute(sqlStr)\n",
    "        return pd.DataFrame(self.mycursor.fetchall(), columns=columnsName)"
   ]
  },
  {
   "cell_type": "code",
   "execution_count": null,
   "metadata": {},
   "outputs": [],
   "source": [
    "request_info_df = DataExtrator().getRequestInfo().sort_values('name_id')\n",
    "request_info_df.to_csv(\"request_info.csv\", index=False)"
   ]
  },
  {
   "cell_type": "code",
   "execution_count": null,
   "metadata": {},
   "outputs": [],
   "source": [
    "def dataPlotter(accounts=[1], data_name='weibo_follower', need_diff=True, days=30):\n",
    "    plt.figure(figsize=(40, 10))\n",
    "    extractor = DataExtrator()\n",
    "    for account in accounts:\n",
    "        accountData = extractor.getWebInfo(account)\n",
    "        normal = accountData[data_name]\n",
    "        diff = np.concatenate([[None], np.diff(accountData[data_name])])\n",
    "        if (need_diff):\n",
    "            plt.plot(accountData['create_time'][-days:],\n",
    "                     diff[-days:], '-o', label=account)\n",
    "        else:\n",
    "            plt.plot(accountData['create_time'][-days:],\n",
    "                     normal[-days:], '-o', label=account)\n",
    "        plt.xticks(accountData['create_time'][-days:], rotation=45)\n",
    "    plt.title(data_name)\n",
    "    plt.legend()"
   ]
  },
  {
   "cell_type": "code",
   "execution_count": null,
   "metadata": {},
   "outputs": [],
   "source": [
    "def showPlots(days=30):\n",
    "    dataPlotter(data_name='weibo_follower', days=days)\n",
    "    dataPlotter(data_name='v_index_wenyu', days=days, need_diff=False)\n",
    "    dataPlotter(data_name='chaohua_read_yi', days=days)\n",
    "    dataPlotter(data_name='chaohua_count', days=days)\n",
    "    dataPlotter(data_name='bili_channel_view_count_yi', days=days)\n",
    "    dataPlotter(data_name='douyin_ch_user_count', days=days)\n",
    "    dataPlotter(data_name='douyin_ch_view_count', days=days)"
   ]
  },
  {
   "cell_type": "code",
   "execution_count": null,
   "metadata": {},
   "outputs": [],
   "source": [
    "showPlots()"
   ]
  }
 ],
 "metadata": {
  "kernelspec": {
   "display_name": "Python 3.9.7 ('base')",
   "language": "python",
   "name": "python3"
  },
  "language_info": {
   "codemirror_mode": {
    "name": "ipython",
    "version": 3
   },
   "file_extension": ".py",
   "mimetype": "text/x-python",
   "name": "python",
   "nbconvert_exporter": "python",
   "pygments_lexer": "ipython3",
   "version": "3.9.7"
  },
  "vscode": {
   "interpreter": {
    "hash": "0e19033703b84f0bc77ad2b0b85e068efba33558cd020f5cffd6f77bdd467e02"
   }
  }
 },
 "nbformat": 4,
 "nbformat_minor": 2
}
